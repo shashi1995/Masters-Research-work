{
 "cells": [
  {
   "cell_type": "code",
   "execution_count": 18,
   "metadata": {},
   "outputs": [
    {
     "name": "stdout",
     "output_type": "stream",
     "text": [
      "['bgj', '1', '566@88', 'q']\n",
      "['1', 'q', 'bgj', '566@88']\n"
     ]
    },
    {
     "data": {
      "image/png": "[encoded data removed]",
      "text/plain": [
       "<Figure size 432x288 with 1 Axes>"
      ]
     },
     "metadata": {
      "needs_background": "light"
     },
     "output_type": "display_data"
    }
   ],
   "source": [
    "# Rule of Sorting : Sorting the List strings in the ascending order of their length\n",
    "\n",
    "# function that sorts the list of strings based on the lenght of each string in asscending order\n",
    "def mystringSort(stringList, n):\n",
    "    print(stringList)\n",
    "    i=0\n",
    "    j=1\n",
    "    tempList = []\n",
    "    if n>1 :\n",
    "        for i in range(n) :\n",
    "            for j in range(n-1) :\n",
    "                if len(stringList[i])<len(stringList[j]) :\n",
    "                    temp = stringList[i]\n",
    "                    stringList[i] = stringList[j]\n",
    "                    stringList[j] = temp\n",
    "                    \n",
    "\n",
    "        print(stringList)\n",
    "           \n",
    "\n",
    " #  Driver code\n",
    "stringList = [\"bgj\", \"1\", \"566@88\", \"q\"]\n",
    "mystringSort(stringList, len(stringList))\n",
    "\n",
    "\n",
    "# genrating a list of 500 Random strings whose length vary from 1 to 10\n",
    "import string\n",
    "import random\n",
    "\n",
    "# random string generator function.\n",
    "def random_generator(size, chars=string.ascii_uppercase + string.digits + string.ascii_lowercase + '!@#$%^&*()_'):\n",
    "    return ''.join(random.choice(chars) for x in range(size))\n",
    "\n",
    "\n",
    "stringlist = []\n",
    "i = 1\n",
    "j = 1\n",
    "for i in range(501) :\n",
    "    for j in range(10) :\n",
    "        stringlist.append(random_generator(j))\n",
    "\n",
    "\n",
    "# Algorithm for scatter plot taking Index of string on x - axis and length of string on y axis\n",
    "\n",
    "lengths = []\n",
    "Indices = []\n",
    "for st in stringlist :\n",
    "    lengths.append(len(str(st)))\n",
    "    Indices.append(stringlist.index(st))\n",
    "#print(length)\n",
    "# print(IndexList)\n",
    "\n",
    "\n",
    "# length = list(range(len(strings[0,5])))\n",
    "# print(length)\n",
    "\n",
    "# # avg = [1854, 2037,1781,1346,1667,1952]\n",
    "\n",
    "import matplotlib.pyplot as plt\n",
    "import numpy as np\n",
    "\n",
    "plt.scatter(lengths, Indices)\n",
    "\n",
    "plt.show()\n"
   ]
  },
  {
   "cell_type": "code",
   "execution_count": null,
   "metadata": {},
   "outputs": [],
   "source": []
  },
  {
   "cell_type": "code",
   "execution_count": null,
   "metadata": {},
   "outputs": [],
   "source": []
  },
  {
   "cell_type": "code",
   "execution_count": null,
   "metadata": {},
   "outputs": [],
   "source": []
  },
  {
   "cell_type": "code",
   "execution_count": null,
   "metadata": {},
   "outputs": [],
   "source": []
  },
  {
   "cell_type": "code",
   "execution_count": null,
   "metadata": {},
   "outputs": [],
   "source": []
  }
 ],
 "metadata": {
  "kernelspec": {
   "display_name": "Python 3",
   "language": "python",
   "name": "python3"
  },
  "language_info": {
   "codemirror_mode": {
    "name": "ipython",
    "version": 3
   },
   "file_extension": ".py",
   "mimetype": "text/x-python",
   "name": "python",
   "nbconvert_exporter": "python",
   "pygments_lexer": "ipython3",
   "version": "3.7.4"
  }
 },
 "nbformat": 4,
 "nbformat_minor": 2
}
