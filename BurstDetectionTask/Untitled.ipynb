{
 "cells": [
  {
   "cell_type": "code",
   "execution_count": 12,
   "metadata": {},
   "outputs": [
    {
     "name": "stdout",
     "output_type": "stream",
     "text": [
      "Splitting  ['a', '%gh', '2546p', '55', '100']\n",
      "['a', '%gh', '2546p', '55', '100']\n"
     ]
    }
   ],
   "source": [
    "def mergeSort(alist):\n",
    "    print(\"Splitting \",alist)\n",
    "#     if len(alist)>1:\n",
    "#         mid = len(alist)//2\n",
    "#         lefthalf = alist[:mid]\n",
    "#         righthalf = alist[mid:]\n",
    "\n",
    "#         mergeSort(lefthalf)\n",
    "#         mergeSort(righthalf)\n",
    "\n",
    "#         i=0\n",
    "#         j=0\n",
    "#         k=0\n",
    "#         while i < len(lefthalf) and j < len(righthalf):\n",
    "#             if lefthalf[i] <= righthalf[j]:\n",
    "#                 alist[k]=lefthalf[i]\n",
    "#                 i=i+1\n",
    "#             else:\n",
    "#                 alist[k]=righthalf[j]\n",
    "#                 j=j+1\n",
    "#             k=k+1\n",
    "\n",
    "#         while i < len(lefthalf):\n",
    "#             alist[k]=lefthalf[i]\n",
    "#             i=i+1\n",
    "#             k=k+1\n",
    "\n",
    "#         while j < len(righthalf):\n",
    "#             alist[k]=righthalf[j]\n",
    "#             j=j+1\n",
    "#             k=k+1\n",
    "#     print(\"Merging \",alist)\n",
    "\n",
    "alist = [\"a\", \"%gh\", \"2546p\", \"55\" , \"100\"]\n",
    "mergeSort(alist)\n",
    "print(alist)"
   ]
  },
  {
   "cell_type": "code",
   "execution_count": null,
   "metadata": {},
   "outputs": [],
   "source": []
  },
  {
   "cell_type": "code",
   "execution_count": null,
   "metadata": {},
   "outputs": [],
   "source": []
  },
  {
   "cell_type": "code",
   "execution_count": null,
   "metadata": {},
   "outputs": [],
   "source": []
  }
 ],
 "metadata": {
  "kernelspec": {
   "display_name": "Python 3",
   "language": "python",
   "name": "python3"
  },
  "language_info": {
   "codemirror_mode": {
    "name": "ipython",
    "version": 3
   },
   "file_extension": ".py",
   "mimetype": "text/x-python",
   "name": "python",
   "nbconvert_exporter": "python",
   "pygments_lexer": "ipython3",
   "version": "3.7.4"
  }
 },
 "nbformat": 4,
 "nbformat_minor": 2
}
